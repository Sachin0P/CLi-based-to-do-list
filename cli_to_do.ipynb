{
  "nbformat": 4,
  "nbformat_minor": 0,
  "metadata": {
    "colab": {
      "provenance": [],
      "authorship_tag": "ABX9TyPSoUb4clHD2iOiwjpSlD99",
      "include_colab_link": true
    },
    "kernelspec": {
      "name": "python3",
      "display_name": "Python 3"
    },
    "language_info": {
      "name": "python"
    }
  },
  "cells": [
    {
      "cell_type": "markdown",
      "metadata": {
        "id": "view-in-github",
        "colab_type": "text"
      },
      "source": [
        "<a href=\"https://colab.research.google.com/github/Sachin0P/CLi-based-to-do-list/blob/main/cli_to_do.ipynb\" target=\"_parent\"><img src=\"https://colab.research.google.com/assets/colab-badge.svg\" alt=\"Open In Colab\"/></a>"
      ]
    },
    {
      "cell_type": "markdown",
      "source": [
        "Add a task\n"
      ],
      "metadata": {
        "id": "anNxSvFKA1Uj"
      }
    },
    {
      "cell_type": "code",
      "source": [
        "import pandas as pd\n",
        "\n",
        "D=[]\n",
        "A=[]\n",
        "fp=open('todo.txt','r')\n",
        "for i in fp:\n",
        "  D.append(i)\n",
        "dk=open('done.txt','r')\n",
        "for j in dk:\n",
        "  A.append(j)\n",
        "fp.close()\n",
        "dk.close()\n",
        "\n",
        "print('welcome to a cli based to do list')\n",
        "n=int(input('\\n\\n\\nwhat would you like to do today \\n1.enter a new task\\n2.tick a task\\n3.reset the list\\n'))\n",
        "if n==1:\n",
        "  t=int(input('how many task would u like to add  '))\n",
        "  for i in range(0,t):\n",
        "    a=input('name the task  ')\n",
        "    D.append(a)\n",
        "    df = pd.DataFrame(D, columns=['Tasks'])\n",
        "\n",
        "elif n==2:\n",
        "  df = pd.DataFrame(D, columns=['Tasks'])\n",
        "  print(df)\n",
        "  y=int(input('which task to tick off  '))\n",
        "  a=D[y]\n",
        "  A.append(a)\n",
        "  D.remove(a)\n",
        "  f=pd.DataFrame(A, columns=['Tasks Done'])\n",
        "  df = pd.DataFrame(D, columns=['Tasks'])\n",
        "  print('\\n\\n\\n\\n\\n',f)\n",
        "\n",
        "\n",
        "else:\n",
        "  D.clear()\n",
        "  fp=open('todo.txt','w')\n",
        "  fp.close()\n",
        "  df = pd.DataFrame(D, columns=['Tasks'])\n",
        "  A.clear()\n",
        "  dk=open('done.txt','w')\n",
        "  dk.close()\n",
        "  f = pd.DataFrame(A, columns=['Tasks'])\n",
        "print('\\n\\n\\n\\n\\n',df)\n",
        "fp=open('todo.txt','a')\n",
        "dk=open('done.txt','a')\n",
        "\n",
        "for i in D:\n",
        "  fp.write(i+'\\n')\n",
        "for i in A:\n",
        "  dk.write(i+'\\n')\n",
        "\n",
        "fp.close()\n",
        "dk.close()"
      ],
      "metadata": {
        "colab": {
          "base_uri": "https://localhost:8080/"
        },
        "id": "suRdGMNL33lQ",
        "outputId": "fddc191b-969b-42ea-878d-1eb9167838b3"
      },
      "execution_count": 46,
      "outputs": [
        {
          "output_type": "stream",
          "name": "stdout",
          "text": [
            "welcome to a cli based to do list\n",
            "\n",
            "\n",
            "\n",
            "what would you like to do today \n",
            "1.enter a new task\n",
            "2.tick a task\n",
            "3.reset the list\n",
            "1\n",
            "how many task would u like to add  3\n",
            "name the task  take bath\n",
            "name the task  brush\n",
            "name the task  read\n",
            "\n",
            "\n",
            "\n",
            "\n",
            "\n",
            "        Tasks\n",
            "0  take bath\n",
            "1      brush\n",
            "2       read\n"
          ]
        }
      ]
    },
    {
      "cell_type": "markdown",
      "source": [
        "Tick a task"
      ],
      "metadata": {
        "id": "jGpj8pPSA503"
      }
    },
    {
      "cell_type": "code",
      "source": [
        "import pandas as pd\n",
        "\n",
        "D=[]\n",
        "A=[]\n",
        "fp=open('todo.txt','r')\n",
        "for i in fp:\n",
        "  D.append(i)\n",
        "dk=open('done.txt','r')\n",
        "for j in dk:\n",
        "  A.append(j)\n",
        "fp.close()\n",
        "dk.close()\n",
        "\n",
        "print('welcome to a cli based to do list')\n",
        "n=int(input('\\n\\n\\nwhat would you like to do today \\n1.enter a new task\\n2.tick a task\\n3.reset the list\\n'))\n",
        "if n==1:\n",
        "  t=int(input('how many task would u like to add  '))\n",
        "  for i in range(0,t):\n",
        "    a=input('name the task  ')\n",
        "    D.append(a)\n",
        "    df = pd.DataFrame(D, columns=['Tasks'])\n",
        "\n",
        "elif n==2:\n",
        "  df = pd.DataFrame(D, columns=['Tasks'])\n",
        "  print(df)\n",
        "  y=int(input('which task to tick off  '))\n",
        "  a=D[y]\n",
        "  A.append(a)\n",
        "  D.remove(a)\n",
        "  f=pd.DataFrame(A, columns=['Tasks Done'])\n",
        "  df = pd.DataFrame(D, columns=['Tasks'])\n",
        "  print('\\n\\n\\n\\n\\n',f)\n",
        "\n",
        "\n",
        "else:\n",
        "  D.clear()\n",
        "  fp=open('todo.txt','w')\n",
        "  fp.close()\n",
        "  df = pd.DataFrame(D, columns=['Tasks'])\n",
        "  A.clear()\n",
        "  dk=open('done.txt','w')\n",
        "  dk.close()\n",
        "  f = pd.DataFrame(A, columns=['Tasks'])\n",
        "print('\\n\\n\\n\\n\\n',df)\n",
        "fp=open('todo.txt','a')\n",
        "dk=open('done.txt','a')\n",
        "\n",
        "for i in D:\n",
        "  fp.write(i+'\\n')\n",
        "for i in A:\n",
        "  dk.write(i+'\\n')\n",
        "\n",
        "fp.close()\n",
        "dk.close()"
      ],
      "metadata": {
        "colab": {
          "base_uri": "https://localhost:8080/"
        },
        "id": "NUFqFZ-ZAto8",
        "outputId": "900d6d19-63ce-4599-d233-de39a15de8a4"
      },
      "execution_count": 47,
      "outputs": [
        {
          "output_type": "stream",
          "name": "stdout",
          "text": [
            "welcome to a cli based to do list\n",
            "\n",
            "\n",
            "\n",
            "what would you like to do today \n",
            "1.enter a new task\n",
            "2.tick a task\n",
            "3.reset the list\n",
            "2\n",
            "         Tasks\n",
            "0  take bath\\n\n",
            "1      brush\\n\n",
            "2       read\\n\n",
            "which task to tick off  1\n",
            "\n",
            "\n",
            "\n",
            "\n",
            "\n",
            "   Tasks Done\n",
            "0    brush\\n\n",
            "\n",
            "\n",
            "\n",
            "\n",
            "\n",
            "          Tasks\n",
            "0  take bath\\n\n",
            "1       read\\n\n"
          ]
        }
      ]
    },
    {
      "cell_type": "markdown",
      "source": [
        "Clearn the list"
      ],
      "metadata": {
        "id": "nUpv70UNA8OP"
      }
    },
    {
      "cell_type": "code",
      "source": [
        "import pandas as pd\n",
        "\n",
        "D=[]\n",
        "A=[]\n",
        "fp=open('todo.txt','r')\n",
        "for i in fp:\n",
        "  D.append(i)\n",
        "dk=open('done.txt','r')\n",
        "for j in dk:\n",
        "  A.append(j)\n",
        "fp.close()\n",
        "dk.close()\n",
        "\n",
        "print('welcome to a cli based to do list')\n",
        "n=int(input('\\n\\n\\nwhat would you like to do today \\n1.enter a new task\\n2.tick a task\\n3.reset the list\\n'))\n",
        "if n==1:\n",
        "  t=int(input('how many task would u like to add  '))\n",
        "  for i in range(0,t):\n",
        "    a=input('name the task  ')\n",
        "    D.append(a)\n",
        "    df = pd.DataFrame(D, columns=['Tasks'])\n",
        "\n",
        "elif n==2:\n",
        "  df = pd.DataFrame(D, columns=['Tasks'])\n",
        "  print(df)\n",
        "  y=int(input('which task to tick off  '))\n",
        "  a=D[y]\n",
        "  A.append(a)\n",
        "  D.remove(a)\n",
        "  f=pd.DataFrame(A, columns=['Tasks Done'])\n",
        "  df = pd.DataFrame(D, columns=['Tasks'])\n",
        "  print('\\n\\n\\n\\n\\n',f)\n",
        "\n",
        "\n",
        "else:\n",
        "  D.clear()\n",
        "  fp=open('todo.txt','w')\n",
        "  fp.close()\n",
        "  df = pd.DataFrame(D, columns=['Tasks'])\n",
        "  A.clear()\n",
        "  dk=open('done.txt','w')\n",
        "  dk.close()\n",
        "  f = pd.DataFrame(A, columns=['Tasks'])\n",
        "print('\\n\\n\\n\\n\\n',df)\n",
        "fp=open('todo.txt','a')\n",
        "dk=open('done.txt','a')\n",
        "\n",
        "for i in D:\n",
        "  fp.write(i+'\\n')\n",
        "for i in A:\n",
        "  dk.write(i+'\\n')\n",
        "\n",
        "fp.close()\n",
        "dk.close()"
      ],
      "metadata": {
        "colab": {
          "base_uri": "https://localhost:8080/"
        },
        "id": "pTdxjsuMAyAa",
        "outputId": "3075d63a-7a4b-406b-b87f-e40aba96fa69"
      },
      "execution_count": 48,
      "outputs": [
        {
          "output_type": "stream",
          "name": "stdout",
          "text": [
            "welcome to a cli based to do list\n",
            "\n",
            "\n",
            "\n",
            "what would you like to do today \n",
            "1.enter a new task\n",
            "2.tick a task\n",
            "3.reset the list\n",
            "3\n",
            "\n",
            "\n",
            "\n",
            "\n",
            "\n",
            " Empty DataFrame\n",
            "Columns: [Tasks]\n",
            "Index: []\n"
          ]
        }
      ]
    }
  ]
}